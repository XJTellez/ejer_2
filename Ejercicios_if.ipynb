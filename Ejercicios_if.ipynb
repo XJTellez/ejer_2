{
  "cells": [
    {
      "cell_type": "markdown",
      "metadata": {
        "id": "view-in-github",
        "colab_type": "text"
      },
      "source": [
        "<a href=\"https://colab.research.google.com/github/XJTellez/ejer_for/blob/main/Ejercicios_if.ipynb\" target=\"_parent\"><img src=\"https://colab.research.google.com/assets/colab-badge.svg\" alt=\"Open In Colab\"/></a>"
      ]
    },
    {
      "cell_type": "markdown",
      "metadata": {
        "id": "AwEE8f1vs7Zs"
      },
      "source": [
        "# If"
      ]
    },
    {
      "cell_type": "markdown",
      "metadata": {
        "id": "nQNDswFbs7Zs"
      },
      "source": [
        "Sintaxis de un if"
      ]
    },
    {
      "cell_type": "code",
      "execution_count": null,
      "metadata": {
        "id": "3qaqZ0a4s7Zs",
        "outputId": "7c03a7a4-3ae7-4f38-f122-fcb786e2b658",
        "colab": {
          "base_uri": "https://localhost:8080/"
        }
      },
      "outputs": [
        {
          "output_type": "stream",
          "name": "stdout",
          "text": [
            "Es cierto\n"
          ]
        }
      ],
      "source": [
        "condicion = True\n",
        "if condicion==True:\n",
        "    print('Es cierto')"
      ]
    },
    {
      "cell_type": "code",
      "execution_count": null,
      "metadata": {
        "id": "mlG30E-ns7Zs",
        "outputId": "9a138417-7020-45d2-ad6f-c4a5bf581581",
        "colab": {
          "base_uri": "https://localhost:8080/"
        }
      },
      "outputs": [
        {
          "output_type": "stream",
          "name": "stdout",
          "text": [
            "Es cierto\n"
          ]
        }
      ],
      "source": [
        "condicion = True\n",
        "if condicion:\n",
        "    print('Es cierto')"
      ]
    },
    {
      "cell_type": "code",
      "execution_count": null,
      "metadata": {
        "id": "zWm1AJRCs7Zs"
      },
      "outputs": [],
      "source": [
        "condicion = False\n",
        "if condicion:\n",
        "    print('Es cierto')"
      ]
    },
    {
      "cell_type": "markdown",
      "metadata": {
        "id": "9_Z8K9Rms7Zs"
      },
      "source": [
        "Else if"
      ]
    },
    {
      "cell_type": "code",
      "execution_count": null,
      "metadata": {
        "id": "HqqzBwGms7Zs",
        "outputId": "d0282035-8557-4d5b-9a1d-d4c83c76e650",
        "colab": {
          "base_uri": "https://localhost:8080/"
        }
      },
      "outputs": [
        {
          "output_type": "stream",
          "name": "stdout",
          "text": [
            "Es falso\n"
          ]
        }
      ],
      "source": [
        "condicion = False\n",
        "if condicion == True:\n",
        "    print('Es cierto')\n",
        "elif condicion == False:\n",
        "    print('Es falso')"
      ]
    },
    {
      "cell_type": "markdown",
      "metadata": {
        "id": "t4Dpdod4s7Zt"
      },
      "source": [
        "Else"
      ]
    },
    {
      "cell_type": "code",
      "execution_count": null,
      "metadata": {
        "id": "sQAHbVfks7Zt",
        "outputId": "77946f97-671b-439b-ef74-edd729425e94",
        "colab": {
          "base_uri": "https://localhost:8080/"
        }
      },
      "outputs": [
        {
          "output_type": "stream",
          "name": "stdout",
          "text": [
            "No cumple ninguna condición.\n"
          ]
        }
      ],
      "source": [
        "condicion = 'Quien sabe'\n",
        "if condicion == True:\n",
        "    print('Es cierto')\n",
        "elif condicion == False:\n",
        "    print('Es falso')\n",
        "else:\n",
        "    print('No cumple ninguna condición.')"
      ]
    },
    {
      "cell_type": "markdown",
      "metadata": {
        "id": "U6tbxb_ts7Zt"
      },
      "source": [
        "### Ejercicio 4"
      ]
    },
    {
      "cell_type": "markdown",
      "metadata": {
        "id": "XQDZm7_Ms7Zt"
      },
      "source": [
        "Crea un diccionario donde los departamentos sean la llave y una lista con los nombres de las personas sean los valores"
      ]
    },
    {
      "cell_type": "code",
      "execution_count": 54,
      "metadata": {
        "id": "lnMcImJWs7Zt",
        "colab": {
          "base_uri": "https://localhost:8080/"
        },
        "outputId": "7b471eec-b770-421b-a03f-14aa42cc0264"
      },
      "outputs": [
        {
          "output_type": "stream",
          "name": "stdout",
          "text": [
            "{'Conta': 'Ing. Viviana', 'RH': 'Msc. Julia', 'Data Science': 'Ing. Rodrigo'}\n"
          ]
        }
      ],
      "source": [
        "nombreDeCandidatos = ['Dra. Alba', 'Lic. Juan Pablo', 'Dr. Alejandro', 'Ing. Viviana', 'Msc. Julia', 'Ing. Rodrigo']\n",
        "dpto = ['Conta','RH','Data Science','Conta','RH','Data Science']\n",
        "\n",
        "d1 = dict([\n",
        "      ('Conta', 'Dra. Alba'),\n",
        "      ('RH', 'Lic. Juan Pablo'),\n",
        "      ('Data Science', 'Dr. Alejandro'),\n",
        "      ('Conta', 'Ing. Viviana'),\n",
        "      ('RH', 'Msc. Julia'),\n",
        "      ('Data Science', 'Ing. Rodrigo')\n",
        "])\n",
        "print(d1)"
      ]
    },
    {
      "cell_type": "markdown",
      "metadata": {
        "id": "pgbGCONAs7Zt"
      },
      "source": [
        "### Ejercicio 5"
      ]
    },
    {
      "cell_type": "markdown",
      "metadata": {
        "id": "-jHnw6QPs7Zu"
      },
      "source": [
        "Sospechas que en encuesta no tenía forma de filtrar los resultados. Revisa si hay valores fuera del rango regular. Cuántos son? Puedes eliminarlos? IF valor fuera de rango then...  "
      ]
    },
    {
      "cell_type": "code",
      "execution_count": 58,
      "metadata": {
        "id": "w2-8i6e5s7Zu"
      },
      "outputs": [],
      "source": [
        "resultadosEncuesta = [5,5,3,3,5,5,4,-999,5,5,5,5,5,5,5,5,4,5,999]\n"
      ]
    },
    {
      "cell_type": "markdown",
      "metadata": {
        "id": "jOaObbvFs7Zu"
      },
      "source": [
        "### Ejercicio 6"
      ]
    },
    {
      "cell_type": "markdown",
      "metadata": {
        "id": "WBgdyp7As7Zu"
      },
      "source": [
        "Te pasaron una lista de datos, sabes que tu ingeniero de datos estuvo de fiesta anoche y sospechas de su capacidad de haber filtrado correctamente tus datos. Decides sospechar de su trabajo respetuosamente investigando la lista. Puedes convertirlos todos a float?  "
      ]
    },
    {
      "cell_type": "code",
      "execution_count": 12,
      "metadata": {
        "id": "B9nUitwPs7Zu"
      },
      "outputs": [],
      "source": [
        "datos = ['5.3',3.14,'4.22',4,True,False,True,'3.001',5]"
      ]
    },
    {
      "cell_type": "code",
      "execution_count": 22,
      "metadata": {
        "id": "Tvua3Rlbs7Zu",
        "colab": {
          "base_uri": "https://localhost:8080/"
        },
        "outputId": "fba39b9a-bd0d-444a-a187-733c7f8d69b6"
      },
      "outputs": [
        {
          "output_type": "stream",
          "name": "stdout",
          "text": [
            "[5.3, 3.14, 4.22, 4.0, 1.0, 0.0, 1.0, 3.001, 5.0]\n"
          ]
        }
      ],
      "source": [
        "float_datos = []\n",
        "for item in datos:\n",
        "    float_datos.append(float(item))\n",
        "    \n",
        "print(float_datos)"
      ]
    },
    {
      "cell_type": "markdown",
      "metadata": {
        "id": "0_2tS5Yos7Zu"
      },
      "source": [
        "### Ejercicio 7"
      ]
    },
    {
      "cell_type": "markdown",
      "metadata": {
        "id": "q0gGsML6s7Zu"
      },
      "source": [
        "Ups! Te acaban de mandar otro set de datos; ahora sí no tienes idea de qué se supone que tenían que significar. Cuántos tipos de datos diferentes hay? Inspecciona los datos y asume el tipo de dato que deberían de ser. Cambia todos los elementos al mismo tipo de dato.  "
      ]
    },
    {
      "cell_type": "code",
      "execution_count": 56,
      "metadata": {
        "id": "OnIiGH8Ns7Zu"
      },
      "outputs": [],
      "source": [
        "datos = ['True',1,'Tal vez',0.0,'Yes',1,0,'No',1,'Nel',1.0,'Falso',1.0,'Yes']\n"
      ]
    },
    {
      "cell_type": "code",
      "execution_count": 57,
      "metadata": {
        "colab": {
          "base_uri": "https://localhost:8080/"
        },
        "outputId": "70521092-8cee-4ff3-c9ad-387c3d5e8468",
        "id": "0LHOKbrhnU_f"
      },
      "outputs": [
        {
          "output_type": "stream",
          "name": "stdout",
          "text": [
            "[ True  True  True False  True  True False  True  True  True  True  True\n",
            "  True  True]\n"
          ]
        },
        {
          "output_type": "execute_result",
          "data": {
            "text/plain": [
              "dtype('bool')"
            ]
          },
          "metadata": {},
          "execution_count": 57
        }
      ],
      "source": [
        "\n",
        "datos = np.array(['True',1,'Tal vez',0.0,'Yes',1,0,'No',1,'Nel',1.0,'False',1.0,'Yes'],dtype=bool)\n",
        "print(datos)\n",
        "datos.dtype"
      ]
    },
    {
      "cell_type": "markdown",
      "metadata": {
        "id": "WZ_7fUQRs7Zu"
      },
      "source": [
        "tip:\n",
        "- Crea un par de sets de referencia. Si el elemento es parte del set, consideralo cierto o falso..."
      ]
    },
    {
      "cell_type": "markdown",
      "metadata": {
        "id": "2iXUtmeHs7Zv"
      },
      "source": [
        "### Ejercicio 8"
      ]
    },
    {
      "cell_type": "markdown",
      "metadata": {
        "id": "hxZy8ECLs7Zv"
      },
      "source": [
        "Estás implementando una prueba de A/B incluyendo a los participantes gradualmente. En el set presentesSujetos tienes los ID de todos los visitantes que ya están en el grupo experimental, en el set futurosSujetos tienes los ID de las personas que faltan por incluir al grupo experimental. Cicla por los ID de la lista visitantes, si son futrosSujetos, inclúyelos en el set de presentesSujetos y quítalos del set futurosSujetos. De lo contrario no le muevas."
      ]
    },
    {
      "cell_type": "code",
      "execution_count": null,
      "metadata": {
        "id": "P6HZKsa_s7Zv"
      },
      "outputs": [],
      "source": [
        "presentesSujetos = {'0001','3141','1337','4242','2525'}\n",
        "futurosSujetos = {'1111','2222','3333','4444','5555','6666','7777','8888','9999'}\n",
        "visitantes = ['0001','1111','1112','2111','3131','4444','5559','9090','6666','4242',\n",
        "             '3329','9384','5013','0593','6594','0394','7777','2222','9382','9022',\n",
        "             '9083','1234','4321','9832','5143','3141','4242','2525']"
      ]
    },
    {
      "cell_type": "markdown",
      "metadata": {
        "id": "BUV66gDKs7Zv"
      },
      "source": [
        "# Referencia rápida"
      ]
    },
    {
      "cell_type": "markdown",
      "metadata": {
        "id": "17rJoa08s7Zv"
      },
      "source": [
        "**Objetos Importantes**\n",
        "- Strings\n",
        "- Listas\n",
        "- Diccionarios\n",
        "- Sets  \n",
        "\n",
        "**Métodos Importantes**\n",
        "- Strings\n",
        "    - split()\n",
        "    - capitalize()\n",
        "    - index()\n",
        "    - replace()\n",
        "    - strip()\n",
        "- Listas\n",
        "    - append()\n",
        "    - index()\n",
        "    - pop()\n",
        "    - remove()\n",
        "    - sort()\n",
        "    - insert()\n",
        "- Diccionarios\n",
        "    - items()\n",
        "    - keys()\n",
        "    - fromkeys()\n",
        "    - values()\n",
        "- Sets\n",
        "    - add()\n",
        "    - intersection()\n",
        "    - difference()\n",
        "    - union()\n",
        " "
      ]
    },
    {
      "cell_type": "markdown",
      "metadata": {
        "id": "4iuLwfr0s7Zv"
      },
      "source": [
        "String: https://www.w3schools.com/python/python_ref_string.asp  \n",
        "Listas: https://www.w3schools.com/python/python_ref_list.asp  \n",
        "Diccionario: https://www.w3schools.com/python/python_ref_dictionary.asp  \n",
        "Set: https://www.w3schools.com/python/python_ref_set.asp\n"
      ]
    }
  ],
  "metadata": {
    "kernelspec": {
      "display_name": "Python 3",
      "language": "python",
      "name": "python3"
    },
    "language_info": {
      "codemirror_mode": {
        "name": "ipython",
        "version": 3
      },
      "file_extension": ".py",
      "mimetype": "text/x-python",
      "name": "python",
      "nbconvert_exporter": "python",
      "pygments_lexer": "ipython3",
      "version": "3.8.5"
    },
    "colab": {
      "provenance": [],
      "include_colab_link": true
    }
  },
  "nbformat": 4,
  "nbformat_minor": 0
}