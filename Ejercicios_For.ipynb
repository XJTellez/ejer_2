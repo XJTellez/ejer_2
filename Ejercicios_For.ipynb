{
  "cells": [
    {
      "cell_type": "markdown",
      "metadata": {
        "id": "view-in-github",
        "colab_type": "text"
      },
      "source": [
        "<a href=\"https://colab.research.google.com/github/XJTellez/ejer_for/blob/main/Ejercicios_For.ipynb\" target=\"_parent\"><img src=\"https://colab.research.google.com/assets/colab-badge.svg\" alt=\"Open In Colab\"/></a>"
      ]
    },
    {
      "cell_type": "markdown",
      "metadata": {
        "id": "gRoFB23gs7Ze"
      },
      "source": [
        "## For, if"
      ]
    },
    {
      "cell_type": "markdown",
      "metadata": {
        "id": "y0fVQGfBs7Zh"
      },
      "source": [
        "# For"
      ]
    },
    {
      "cell_type": "code",
      "execution_count": null,
      "metadata": {
        "colab": {
          "base_uri": "https://localhost:8080/"
        },
        "id": "xTCL6fSas7Zi",
        "outputId": "fd0f6baa-996c-45db-fe5c-0035f1ae607d"
      },
      "outputs": [
        {
          "output_type": "execute_result",
          "data": {
            "text/plain": [
              "28"
            ]
          },
          "metadata": {},
          "execution_count": 1
        }
      ],
      "source": [
        "suma = 1+2+3+4+5+6+7\n",
        "suma"
      ]
    },
    {
      "cell_type": "markdown",
      "metadata": {
        "id": "k_wihm4Ks7Zo"
      },
      "source": [
        "Anatomía de un ciclo for"
      ]
    },
    {
      "cell_type": "code",
      "execution_count": null,
      "metadata": {
        "colab": {
          "base_uri": "https://localhost:8080/"
        },
        "id": "2UnX6Q6Fs7Zo",
        "outputId": "5fc6557c-744d-47e7-c244-06508ad7a0d3"
      },
      "outputs": [
        {
          "output_type": "execute_result",
          "data": {
            "text/plain": [
              "4950"
            ]
          },
          "metadata": {},
          "execution_count": 2
        }
      ],
      "source": [
        "suma = 0\n",
        "\n",
        "for numero in range(0,100):\n",
        "    suma = suma + numero\n",
        "suma"
      ]
    },
    {
      "cell_type": "code",
      "execution_count": null,
      "metadata": {
        "colab": {
          "base_uri": "https://localhost:8080/"
        },
        "id": "q3TphHFCs7Zo",
        "outputId": "53e9844c-89d4-44c8-c07a-d7f94ce8bcdb"
      },
      "outputs": [
        {
          "output_type": "stream",
          "name": "stdout",
          "text": [
            "ELEMENTO1\n",
            "ELEMENTO2\n",
            "ELEMENTO3\n",
            "ELEMENTO4\n"
          ]
        }
      ],
      "source": [
        "coleccionDeElementos = ['elemento1','elemento2','elemento3','elemento4']\n",
        "for elemento in coleccionDeElementos:\n",
        "    print(elemento.upper())"
      ]
    },
    {
      "cell_type": "markdown",
      "metadata": {
        "id": "uWIBnOBRs7Zp"
      },
      "source": [
        "Léase como:  \n",
        "**POR CADA** elemento **EN** coleccionDeElementos:  \n",
        "**IMPRIME CADA** elemento"
      ]
    },
    {
      "cell_type": "code",
      "execution_count": null,
      "metadata": {
        "id": "rEib1pXOs7Zp",
        "outputId": "13acd00d-f3a3-486c-d04b-1e031a99690c",
        "colab": {
          "base_uri": "https://localhost:8080/"
        }
      },
      "outputs": [
        {
          "output_type": "stream",
          "name": "stdout",
          "text": [
            "ELEMENTO1\n",
            "ELEMENTO2\n",
            "ELEMENTO3\n",
            "ELEMENTO4\n"
          ]
        }
      ],
      "source": [
        "for elemento in ['elemento1','elemento2','elemento3','elemento4']:\n",
        "    print(elemento.upper())"
      ]
    },
    {
      "cell_type": "code",
      "execution_count": null,
      "metadata": {
        "id": "w6eHbdOUs7Zp",
        "outputId": "cf74be08-0e27-4d5a-bf50-d182e80f5e06",
        "colab": {
          "base_uri": "https://localhost:8080/"
        }
      },
      "outputs": [
        {
          "output_type": "stream",
          "name": "stdout",
          "text": [
            "12\n",
            "13\n",
            "22\n",
            "24\n",
            "32\n",
            "35\n"
          ]
        }
      ],
      "source": [
        "for numero in [10,11,20,22,30,33]:\n",
        "    print(numero+2)"
      ]
    },
    {
      "cell_type": "code",
      "execution_count": null,
      "metadata": {
        "id": "b9JFK8gAs7Zq",
        "outputId": "7d1cb47e-a090-4a01-b887-afdbcff7726b",
        "colab": {
          "base_uri": "https://localhost:8080/"
        }
      },
      "outputs": [
        {
          "output_type": "stream",
          "name": "stdout",
          "text": [
            "elemento1 está en la posición: 0\n",
            "elemento2 está en la posición: 1\n",
            "elemento3 está en la posición: 2\n",
            "elemento4 está en la posición: 3\n"
          ]
        }
      ],
      "source": [
        "for posicion, elemento in enumerate(['elemento1','elemento2','elemento3','elemento4']):\n",
        "    print('{} está en la posición: {}'.format(elemento,posicion))"
      ]
    },
    {
      "cell_type": "markdown",
      "metadata": {
        "id": "tZx3eaqBs7Zq"
      },
      "source": [
        "### Ejercicio 1"
      ]
    },
    {
      "cell_type": "markdown",
      "metadata": {
        "id": "0U5Pr0Ifs7Zq"
      },
      "source": [
        "Hablemos de limpieza de datos. Supongamos que vamos a entrenar un modelo para seleccionar al mejor candidato para un puesto. El nombre del candidato no será de interés, pero su título sí. Lamentablemente RH me pasó ambos datos juntos. Cómo puedo extraer sólo lo importante de esta lista de nombres?"
      ]
    },
    {
      "cell_type": "code",
      "execution_count": null,
      "metadata": {
        "id": "wzwE1Ju6s7Zq"
      },
      "outputs": [],
      "source": [
        "nombreDeCandidatos = ['Dra. Alba', 'Lic. Juan Pablo', 'Dr. Alejandro', 'Ing. Viviana', 'Msc. Julia', 'Ing. Rodrigo']"
      ]
    },
    {
      "cell_type": "code",
      "execution_count": null,
      "metadata": {
        "id": "MUsRM1-as7Zq",
        "colab": {
          "base_uri": "https://localhost:8080/"
        },
        "outputId": "670010b8-6190-492b-82ab-f91fc973a7a4"
      },
      "outputs": [
        {
          "output_type": "stream",
          "name": "stdout",
          "text": [
            "Dra. Alba\n",
            "Lic. Juan Pablo\n",
            "Dr. Alejandro\n",
            "Ing. Viviana\n",
            "Msc. Julia\n",
            "Ing. Rodrigo\n"
          ]
        }
      ],
      "source": [
        "tituloDeCandidatos = []\n",
        "for persona in nombreDeCandidatos:\n",
        "    persona.split()\n",
        "    print('{}'.format(persona))"
      ]
    },
    {
      "cell_type": "markdown",
      "metadata": {
        "id": "LCV4fFBks7Zq"
      },
      "source": [
        "Tips:  \n",
        "- Puedes usar lista.append() para agregar elementos a la lista\n",
        "- Puedes usar string.split() para separar un elemento"
      ]
    },
    {
      "cell_type": "markdown",
      "metadata": {
        "id": "Bvme6R9Bs7Zr"
      },
      "source": [
        "### Ejercicio 2"
      ]
    },
    {
      "cell_type": "markdown",
      "metadata": {
        "id": "smV4RiGvs7Zr"
      },
      "source": [
        "Tu Google Forms hizo algo raro con los nombres y tu TOC no soporta ver nombres con minúsculas. En el nombre de todo lo que es correcto y decente cambia los nombres tal que la primer letra sea mayúscula."
      ]
    },
    {
      "cell_type": "code",
      "execution_count": null,
      "metadata": {
        "id": "nZ0GX6WYs7Zr"
      },
      "outputs": [],
      "source": [
        "nombreDeCandidatos = ['alba', 'juan Pablo', 'alejandro', 'viviana', 'julia', 'rodrigo']"
      ]
    },
    {
      "cell_type": "code",
      "execution_count": null,
      "metadata": {
        "id": "skLvrRDMs7Zr",
        "colab": {
          "base_uri": "https://localhost:8080/"
        },
        "outputId": "1b3019b9-1ed5-4b09-e5c6-87b0cc223a40"
      },
      "outputs": [
        {
          "output_type": "stream",
          "name": "stdout",
          "text": [
            "Alba\n",
            "Juan pablo\n",
            "Alejandro\n",
            "Viviana\n",
            "Julia\n",
            "Rodrigo\n"
          ]
        }
      ],
      "source": [
        "for persona in nombreDeCandidatos:\n",
        "  print(persona.capitalize())"
      ]
    },
    {
      "cell_type": "markdown",
      "metadata": {
        "id": "0LELKmRos7Zr"
      },
      "source": [
        "### Ejercicio 3"
      ]
    },
    {
      "cell_type": "markdown",
      "metadata": {
        "id": "cJmOFf4Ls7Zr"
      },
      "source": [
        "Sigamos con limpieza de datos. Estás recolectando información de un cuestionario en línea para determinar la satisfacción de los usuarios de tu servicio online. Utilizando un ciclo for, calcula la calificación promedio.  "
      ]
    },
    {
      "cell_type": "code",
      "execution_count": null,
      "metadata": {
        "id": "55jnYR44s7Zr"
      },
      "outputs": [],
      "source": [
        "resultadosEncuesta = [1,5,3,3,2,4,4,5,5,4,1,2,3,3,3,4,5]"
      ]
    },
    {
      "cell_type": "code",
      "execution_count": null,
      "metadata": {
        "id": "VXr_ai-4s7Zs",
        "colab": {
          "base_uri": "https://localhost:8080/"
        },
        "outputId": "edd2ce64-5053-40e7-cb40-685e8ead3275"
      },
      "outputs": [
        {
          "output_type": "stream",
          "name": "stdout",
          "text": [
            "El promedio es 3.3529411764705883\n"
          ]
        }
      ],
      "source": [
        "suma = 0\n",
        "\n",
        "for numero in resultadosEncuesta:\n",
        "     suma = suma + numero\n",
        "           \n",
        "     elementos = len(resultadosEncuesta)\n",
        "promedio = suma / elementos\n",
        "print(f\"El promedio es {promedio}\")"
      ]
    }
  ],
  "metadata": {
    "kernelspec": {
      "display_name": "Python 3",
      "language": "python",
      "name": "python3"
    },
    "language_info": {
      "codemirror_mode": {
        "name": "ipython",
        "version": 3
      },
      "file_extension": ".py",
      "mimetype": "text/x-python",
      "name": "python",
      "nbconvert_exporter": "python",
      "pygments_lexer": "ipython3",
      "version": "3.8.5"
    },
    "colab": {
      "provenance": [],
      "include_colab_link": true
    }
  },
  "nbformat": 4,
  "nbformat_minor": 0
}